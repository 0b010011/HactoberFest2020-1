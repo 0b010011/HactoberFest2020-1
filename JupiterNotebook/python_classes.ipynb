{
  "nbformat": 4,
  "nbformat_minor": 0,
  "metadata": {
    "colab": {
      "name": "python classes.ipynb",
      "provenance": []
    },
    "kernelspec": {
      "name": "python3",
      "display_name": "Python 3"
    }
  },
  "cells": [
    {
      "cell_type": "code",
      "metadata": {
        "id": "hCvCwSwdNAvz"
      },
      "source": [
        "#Example of Classes in python\n",
        "#Class Creation\n",
        "\n",
        "class Auto():\n",
        "    def __init__(self, color, model, make, engine):\n",
        "        self.color = color\n",
        "        self.model = model\n",
        "        self.make = make\n",
        "        self.engine = engine\n",
        "  \n",
        "    def run(self):\n",
        "       print(f\"{self.color} car is running\")\n",
        "\n",
        "    def stop(self):\n",
        "       print(f\"{self.color} car is stopped\")           \n"
      ],
      "execution_count": 1,
      "outputs": []
    },
    {
      "cell_type": "code",
      "metadata": {
        "id": "6Q1pamSaNIrN"
      },
      "source": [
        "# Object creation\n",
        "car1 = Auto(\"white\", \"2020\", \"Suzuki\", \"1000\") # constructor/ initializer\n",
        "car2 = Auto(\"silver\", \"2019\", \"Honda\", \"1300\")\n",
        "car3 = Auto(\"black\", \"2018\", \"Toyota\", \"1299\")"
      ],
      "execution_count": 2,
      "outputs": []
    },
    {
      "cell_type": "code",
      "metadata": {
        "id": "wGmj75ctNMob",
        "outputId": "23a954d2-b02c-4ff2-912d-818d6fb12e75",
        "colab": {
          "base_uri": "https://localhost:8080/",
          "height": 102
        }
      },
      "source": [
        "# Calling objects\n",
        "car1.run()\n",
        "car1.stop()\n",
        "car3.run()\n",
        "car3.stop()\n",
        "Auto.run(car1)"
      ],
      "execution_count": 3,
      "outputs": [
        {
          "output_type": "stream",
          "text": [
            "white car is running\n",
            "white car is stopped\n",
            "black car is running\n",
            "black car is stopped\n",
            "white car is running\n"
          ],
          "name": "stdout"
        }
      ]
    }
  ]
}